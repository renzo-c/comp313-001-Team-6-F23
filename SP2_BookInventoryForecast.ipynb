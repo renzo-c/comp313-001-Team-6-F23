{
  "nbformat": 4,
  "nbformat_minor": 0,
  "metadata": {
    "colab": {
      "provenance": []
    },
    "kernelspec": {
      "name": "python3",
      "display_name": "Python 3"
    },
    "language_info": {
      "name": "python"
    }
  },
  "cells": [
    {
      "cell_type": "code",
      "execution_count": null,
      "metadata": {
        "colab": {
          "base_uri": "https://localhost:8080/"
        },
        "id": "E1k_PTu4MCB9",
        "outputId": "aeeed819-89d1-4806-fd6b-79f359a037ed"
      },
      "outputs": [
        {
          "output_type": "stream",
          "name": "stdout",
          "text": [
            "Drive already mounted at /content/gdrive; to attempt to forcibly remount, call drive.mount(\"/content/gdrive\", force_remount=True).\n"
          ]
        }
      ],
      "source": [
        "from google.colab import drive\n",
        "drive.mount(\"/content/gdrive\")\n",
        "import warnings\n",
        "warnings.filterwarnings(action='ignore')"
      ]
    },
    {
      "cell_type": "code",
      "source": [
        "book_path='/content/gdrive/MyDrive/SoftwareProject2/sources/Bookshop(3).xlsx'"
      ],
      "metadata": {
        "id": "ye8OwP8LMIFu"
      },
      "execution_count": null,
      "outputs": []
    },
    {
      "cell_type": "code",
      "source": [
        "import pandas as pd\n",
        "all_sheets = pd.read_excel(book_path, sheet_name=None)\n"
      ],
      "metadata": {
        "id": "jFHyXqSrMJxr"
      },
      "execution_count": null,
      "outputs": []
    },
    {
      "cell_type": "code",
      "source": [
        "sales_data = all_sheets['Sales']\n",
        "\n",
        "# Convert 'Sale Date' to datetime\n",
        "sales_data['Sale Date'] = pd.to_datetime(sales_data['Sale Date'])\n",
        "\n",
        "# Set 'Sale Date' as the index\n",
        "sales_data.set_index('Sale Date', inplace=True)\n",
        "\n",
        "# Group by ISBN and month, and count the number of sales\n",
        "monthly_sales = sales_data.groupby([sales_data.index.to_period('M'), 'ISBN']).size().reset_index(name='Sales')\n",
        "\n",
        "# Pivot the table to have dates as rows and books as columns, filling missing values with 0\n",
        "sales_pivot = monthly_sales.pivot_table(index='Sale Date', columns='ISBN', values='Sales', fill_value=0)\n"
      ],
      "metadata": {
        "id": "0gHsaZYkMQqX"
      },
      "execution_count": null,
      "outputs": []
    },
    {
      "cell_type": "code",
      "source": [
        "# Split the data into training and test sets\n",
        "train_data = sales_pivot[np.logical_and(sales_pivot.index.year < 2193,np.logical_not(np.logical_and(sales_pivot.index.month==12, sales_pivot.index.year==2192)))]\n",
        "test_data = sales_pivot[np.logical_or(np.logical_and(sales_pivot.index.month==12, sales_pivot.index.year==2192),sales_pivot.index.year==2193)]\n"
      ],
      "metadata": {
        "id": "_oXZzaK_MmWh"
      },
      "execution_count": null,
      "outputs": []
    },
    {
      "cell_type": "code",
      "source": [
        "from statsmodels.tsa.statespace.sarimax import SARIMAX\n",
        "from statsmodels.tsa.stattools import adfuller\n",
        "import numpy as np\n",
        "\n",
        "# Function to perform the ADF test to check for stationarity\n",
        "def adf_test(timeseries):\n",
        "    result = adfuller(timeseries, autolag='AIC')\n",
        "    return result[1]  # p-value\n",
        "\n",
        "# Function to find the optimal SARIMA order\n",
        "def optimize_sarima(parameters_list, seasonal_parameters_list, d, D, s, time_series):\n",
        "    \"\"\"\n",
        "    Return dataframe with parameters and corresponding AIC\n",
        "\n",
        "    parameters_list - list with (p, q, P, Q) tuples\n",
        "    d, D - integration order, seasonal integration order\n",
        "    s - length of season\n",
        "    time_series - the observed time series\n",
        "    \"\"\"\n",
        "\n",
        "    results = []\n",
        "\n",
        "    for param in parameters_list:\n",
        "        for param_seasonal in seasonal_parameters_list:\n",
        "            try:\n",
        "                model = SARIMAX(time_series,\n",
        "                                order=(param[0], d, param[1]),\n",
        "                                seasonal_order=(param_seasonal[0], D, param_seasonal[1], s),\n",
        "                                enforce_stationarity=False,\n",
        "                                enforce_invertibility=False,\n",
        "                                disp=False)\n",
        "                results.append([param, param_seasonal, model.fit(disp=False).aic])\n",
        "            except:\n",
        "                continue\n",
        "\n",
        "    result_df = pd.DataFrame(results, columns=['param', 'param_seasonal', 'aic'])\n",
        "    result_df = result_df.sort_values(by='aic', ascending=True).reset_index(drop=True)\n",
        "\n",
        "    return result_df\n",
        "\n",
        "# Select the sales data for a single ISBN\n",
        "# We choose the first ISBN from the list as a demonstration\n",
        "isbn_to_forecast = sales_pivot.columns[0]\n",
        "single_book_sales = train_data[isbn_to_forecast]\n",
        "\n",
        "# Check if the time series is stationary\n",
        "adf_p_value = adf_test(single_book_sales)\n",
        "\n",
        "# If the p-value is greater than 0.05, we conclude that the time series is not stationary\n",
        "# and needs differencing\n",
        "if adf_p_value > 0.05:\n",
        "    d = 1\n",
        "else:\n",
        "    d = 0\n",
        "\n",
        "# Set seasonal parameters\n",
        "# Assuming a yearly seasonality for book sales\n",
        "s = 12\n",
        "D = 1 if d == 0 else 0  # If we already have differenced, no need for seasonal differencing\n",
        "\n",
        "# Define p, q, P, Q ranges to test\n",
        "p = range(0, 3)  # AR terms\n",
        "q = range(0, 3)  # MA terms\n",
        "P = range(0, 2)  # Seasonal AR terms\n",
        "Q = range(0, 2)  # Seasonal MA terms\n",
        "\n",
        "# Create a list of all possible combinations of p, q, P, and Q\n",
        "parameters = [(x[0], x[1]) for x in list(np.ndindex((len(p), len(q))))]\n",
        "seasonal_parameters = [(x[0], x[1]) for x in list(np.ndindex((len(P), len(Q))))]\n",
        "\n",
        "# Optimize SARIMA parameters\n",
        "optimal_params_df = optimize_sarima(parameters, seasonal_parameters, d, D, s, single_book_sales)\n",
        "\n",
        "optimal_params_df.head()\n"
      ],
      "metadata": {
        "colab": {
          "base_uri": "https://localhost:8080/",
          "height": 206
        },
        "id": "GObq6bNnMzxk",
        "outputId": "b9d53469-1e84-4f41-99ca-9d32fb853402"
      },
      "execution_count": null,
      "outputs": [
        {
          "output_type": "execute_result",
          "data": {
            "text/plain": [
              "    param param_seasonal         aic\n",
              "0  (0, 2)         (1, 1)  323.220844\n",
              "1  (2, 2)         (1, 1)  323.794066\n",
              "2  (1, 2)         (1, 1)  323.909638\n",
              "3  (2, 1)         (1, 1)  328.716175\n",
              "4  (2, 0)         (1, 1)  332.317311"
            ],
            "text/html": [
              "\n",
              "  <div id=\"df-75ca731d-102a-43a9-bb69-c7dcda38384b\" class=\"colab-df-container\">\n",
              "    <div>\n",
              "<style scoped>\n",
              "    .dataframe tbody tr th:only-of-type {\n",
              "        vertical-align: middle;\n",
              "    }\n",
              "\n",
              "    .dataframe tbody tr th {\n",
              "        vertical-align: top;\n",
              "    }\n",
              "\n",
              "    .dataframe thead th {\n",
              "        text-align: right;\n",
              "    }\n",
              "</style>\n",
              "<table border=\"1\" class=\"dataframe\">\n",
              "  <thead>\n",
              "    <tr style=\"text-align: right;\">\n",
              "      <th></th>\n",
              "      <th>param</th>\n",
              "      <th>param_seasonal</th>\n",
              "      <th>aic</th>\n",
              "    </tr>\n",
              "  </thead>\n",
              "  <tbody>\n",
              "    <tr>\n",
              "      <th>0</th>\n",
              "      <td>(0, 2)</td>\n",
              "      <td>(1, 1)</td>\n",
              "      <td>323.220844</td>\n",
              "    </tr>\n",
              "    <tr>\n",
              "      <th>1</th>\n",
              "      <td>(2, 2)</td>\n",
              "      <td>(1, 1)</td>\n",
              "      <td>323.794066</td>\n",
              "    </tr>\n",
              "    <tr>\n",
              "      <th>2</th>\n",
              "      <td>(1, 2)</td>\n",
              "      <td>(1, 1)</td>\n",
              "      <td>323.909638</td>\n",
              "    </tr>\n",
              "    <tr>\n",
              "      <th>3</th>\n",
              "      <td>(2, 1)</td>\n",
              "      <td>(1, 1)</td>\n",
              "      <td>328.716175</td>\n",
              "    </tr>\n",
              "    <tr>\n",
              "      <th>4</th>\n",
              "      <td>(2, 0)</td>\n",
              "      <td>(1, 1)</td>\n",
              "      <td>332.317311</td>\n",
              "    </tr>\n",
              "  </tbody>\n",
              "</table>\n",
              "</div>\n",
              "    <div class=\"colab-df-buttons\">\n",
              "\n",
              "  <div class=\"colab-df-container\">\n",
              "    <button class=\"colab-df-convert\" onclick=\"convertToInteractive('df-75ca731d-102a-43a9-bb69-c7dcda38384b')\"\n",
              "            title=\"Convert this dataframe to an interactive table.\"\n",
              "            style=\"display:none;\">\n",
              "\n",
              "  <svg xmlns=\"http://www.w3.org/2000/svg\" height=\"24px\" viewBox=\"0 -960 960 960\">\n",
              "    <path d=\"M120-120v-720h720v720H120Zm60-500h600v-160H180v160Zm220 220h160v-160H400v160Zm0 220h160v-160H400v160ZM180-400h160v-160H180v160Zm440 0h160v-160H620v160ZM180-180h160v-160H180v160Zm440 0h160v-160H620v160Z\"/>\n",
              "  </svg>\n",
              "    </button>\n",
              "\n",
              "  <style>\n",
              "    .colab-df-container {\n",
              "      display:flex;\n",
              "      gap: 12px;\n",
              "    }\n",
              "\n",
              "    .colab-df-convert {\n",
              "      background-color: #E8F0FE;\n",
              "      border: none;\n",
              "      border-radius: 50%;\n",
              "      cursor: pointer;\n",
              "      display: none;\n",
              "      fill: #1967D2;\n",
              "      height: 32px;\n",
              "      padding: 0 0 0 0;\n",
              "      width: 32px;\n",
              "    }\n",
              "\n",
              "    .colab-df-convert:hover {\n",
              "      background-color: #E2EBFA;\n",
              "      box-shadow: 0px 1px 2px rgba(60, 64, 67, 0.3), 0px 1px 3px 1px rgba(60, 64, 67, 0.15);\n",
              "      fill: #174EA6;\n",
              "    }\n",
              "\n",
              "    .colab-df-buttons div {\n",
              "      margin-bottom: 4px;\n",
              "    }\n",
              "\n",
              "    [theme=dark] .colab-df-convert {\n",
              "      background-color: #3B4455;\n",
              "      fill: #D2E3FC;\n",
              "    }\n",
              "\n",
              "    [theme=dark] .colab-df-convert:hover {\n",
              "      background-color: #434B5C;\n",
              "      box-shadow: 0px 1px 3px 1px rgba(0, 0, 0, 0.15);\n",
              "      filter: drop-shadow(0px 1px 2px rgba(0, 0, 0, 0.3));\n",
              "      fill: #FFFFFF;\n",
              "    }\n",
              "  </style>\n",
              "\n",
              "    <script>\n",
              "      const buttonEl =\n",
              "        document.querySelector('#df-75ca731d-102a-43a9-bb69-c7dcda38384b button.colab-df-convert');\n",
              "      buttonEl.style.display =\n",
              "        google.colab.kernel.accessAllowed ? 'block' : 'none';\n",
              "\n",
              "      async function convertToInteractive(key) {\n",
              "        const element = document.querySelector('#df-75ca731d-102a-43a9-bb69-c7dcda38384b');\n",
              "        const dataTable =\n",
              "          await google.colab.kernel.invokeFunction('convertToInteractive',\n",
              "                                                    [key], {});\n",
              "        if (!dataTable) return;\n",
              "\n",
              "        const docLinkHtml = 'Like what you see? Visit the ' +\n",
              "          '<a target=\"_blank\" href=https://colab.research.google.com/notebooks/data_table.ipynb>data table notebook</a>'\n",
              "          + ' to learn more about interactive tables.';\n",
              "        element.innerHTML = '';\n",
              "        dataTable['output_type'] = 'display_data';\n",
              "        await google.colab.output.renderOutput(dataTable, element);\n",
              "        const docLink = document.createElement('div');\n",
              "        docLink.innerHTML = docLinkHtml;\n",
              "        element.appendChild(docLink);\n",
              "      }\n",
              "    </script>\n",
              "  </div>\n",
              "\n",
              "\n",
              "<div id=\"df-ba04f5c7-5343-4d21-9fd1-ab403270b833\">\n",
              "  <button class=\"colab-df-quickchart\" onclick=\"quickchart('df-ba04f5c7-5343-4d21-9fd1-ab403270b833')\"\n",
              "            title=\"Suggest charts.\"\n",
              "            style=\"display:none;\">\n",
              "\n",
              "<svg xmlns=\"http://www.w3.org/2000/svg\" height=\"24px\"viewBox=\"0 0 24 24\"\n",
              "     width=\"24px\">\n",
              "    <g>\n",
              "        <path d=\"M19 3H5c-1.1 0-2 .9-2 2v14c0 1.1.9 2 2 2h14c1.1 0 2-.9 2-2V5c0-1.1-.9-2-2-2zM9 17H7v-7h2v7zm4 0h-2V7h2v10zm4 0h-2v-4h2v4z\"/>\n",
              "    </g>\n",
              "</svg>\n",
              "  </button>\n",
              "\n",
              "<style>\n",
              "  .colab-df-quickchart {\n",
              "      --bg-color: #E8F0FE;\n",
              "      --fill-color: #1967D2;\n",
              "      --hover-bg-color: #E2EBFA;\n",
              "      --hover-fill-color: #174EA6;\n",
              "      --disabled-fill-color: #AAA;\n",
              "      --disabled-bg-color: #DDD;\n",
              "  }\n",
              "\n",
              "  [theme=dark] .colab-df-quickchart {\n",
              "      --bg-color: #3B4455;\n",
              "      --fill-color: #D2E3FC;\n",
              "      --hover-bg-color: #434B5C;\n",
              "      --hover-fill-color: #FFFFFF;\n",
              "      --disabled-bg-color: #3B4455;\n",
              "      --disabled-fill-color: #666;\n",
              "  }\n",
              "\n",
              "  .colab-df-quickchart {\n",
              "    background-color: var(--bg-color);\n",
              "    border: none;\n",
              "    border-radius: 50%;\n",
              "    cursor: pointer;\n",
              "    display: none;\n",
              "    fill: var(--fill-color);\n",
              "    height: 32px;\n",
              "    padding: 0;\n",
              "    width: 32px;\n",
              "  }\n",
              "\n",
              "  .colab-df-quickchart:hover {\n",
              "    background-color: var(--hover-bg-color);\n",
              "    box-shadow: 0 1px 2px rgba(60, 64, 67, 0.3), 0 1px 3px 1px rgba(60, 64, 67, 0.15);\n",
              "    fill: var(--button-hover-fill-color);\n",
              "  }\n",
              "\n",
              "  .colab-df-quickchart-complete:disabled,\n",
              "  .colab-df-quickchart-complete:disabled:hover {\n",
              "    background-color: var(--disabled-bg-color);\n",
              "    fill: var(--disabled-fill-color);\n",
              "    box-shadow: none;\n",
              "  }\n",
              "\n",
              "  .colab-df-spinner {\n",
              "    border: 2px solid var(--fill-color);\n",
              "    border-color: transparent;\n",
              "    border-bottom-color: var(--fill-color);\n",
              "    animation:\n",
              "      spin 1s steps(1) infinite;\n",
              "  }\n",
              "\n",
              "  @keyframes spin {\n",
              "    0% {\n",
              "      border-color: transparent;\n",
              "      border-bottom-color: var(--fill-color);\n",
              "      border-left-color: var(--fill-color);\n",
              "    }\n",
              "    20% {\n",
              "      border-color: transparent;\n",
              "      border-left-color: var(--fill-color);\n",
              "      border-top-color: var(--fill-color);\n",
              "    }\n",
              "    30% {\n",
              "      border-color: transparent;\n",
              "      border-left-color: var(--fill-color);\n",
              "      border-top-color: var(--fill-color);\n",
              "      border-right-color: var(--fill-color);\n",
              "    }\n",
              "    40% {\n",
              "      border-color: transparent;\n",
              "      border-right-color: var(--fill-color);\n",
              "      border-top-color: var(--fill-color);\n",
              "    }\n",
              "    60% {\n",
              "      border-color: transparent;\n",
              "      border-right-color: var(--fill-color);\n",
              "    }\n",
              "    80% {\n",
              "      border-color: transparent;\n",
              "      border-right-color: var(--fill-color);\n",
              "      border-bottom-color: var(--fill-color);\n",
              "    }\n",
              "    90% {\n",
              "      border-color: transparent;\n",
              "      border-bottom-color: var(--fill-color);\n",
              "    }\n",
              "  }\n",
              "</style>\n",
              "\n",
              "  <script>\n",
              "    async function quickchart(key) {\n",
              "      const quickchartButtonEl =\n",
              "        document.querySelector('#' + key + ' button');\n",
              "      quickchartButtonEl.disabled = true;  // To prevent multiple clicks.\n",
              "      quickchartButtonEl.classList.add('colab-df-spinner');\n",
              "      try {\n",
              "        const charts = await google.colab.kernel.invokeFunction(\n",
              "            'suggestCharts', [key], {});\n",
              "      } catch (error) {\n",
              "        console.error('Error during call to suggestCharts:', error);\n",
              "      }\n",
              "      quickchartButtonEl.classList.remove('colab-df-spinner');\n",
              "      quickchartButtonEl.classList.add('colab-df-quickchart-complete');\n",
              "    }\n",
              "    (() => {\n",
              "      let quickchartButtonEl =\n",
              "        document.querySelector('#df-ba04f5c7-5343-4d21-9fd1-ab403270b833 button');\n",
              "      quickchartButtonEl.style.display =\n",
              "        google.colab.kernel.accessAllowed ? 'block' : 'none';\n",
              "    })();\n",
              "  </script>\n",
              "</div>\n",
              "    </div>\n",
              "  </div>\n"
            ]
          },
          "metadata": {},
          "execution_count": 209
        }
      ]
    },
    {
      "cell_type": "code",
      "source": [
        "min_value_row = optimal_params_df.loc[optimal_params_df['aic'].idxmin()]\n",
        "optimal_p, optimal_q = min_value_row['param']\n",
        "optimal_P, optimal_Q = min_value_row['param_seasonal']\n",
        "\n",
        "# Fit the SARIMA model with the optimal parameters\n",
        "best_sarima_model = SARIMAX(single_book_sales,\n",
        "                            order=(optimal_p, d, optimal_q),\n",
        "                            seasonal_order=(optimal_P, D, optimal_Q, s),\n",
        "                            enforce_stationarity=False,\n",
        "                            enforce_invertibility=False)\n",
        "best_sarima_model_fit = best_sarima_model.fit(disp=False)\n",
        "best_sarima_model_fit.summary()\n"
      ],
      "metadata": {
        "colab": {
          "base_uri": "https://localhost:8080/",
          "height": 473
        },
        "id": "o3LAkNrYM9P-",
        "outputId": "afc6a21b-cf21-4a31-bd60-b8015d6a910b"
      },
      "execution_count": null,
      "outputs": [
        {
          "output_type": "execute_result",
          "data": {
            "text/plain": [
              "<class 'statsmodels.iolib.summary.Summary'>\n",
              "\"\"\"\n",
              "                                      SARIMAX Results                                       \n",
              "============================================================================================\n",
              "Dep. Variable:                    989-28-229-0197-6   No. Observations:                   59\n",
              "Model:             SARIMAX(0, 1, 2)x(1, 0, [1], 12)   Log Likelihood                -156.610\n",
              "Date:                              Sat, 04 Nov 2023   AIC                            323.221\n",
              "Time:                                      16:58:15   BIC                            332.027\n",
              "Sample:                                  01-31-2188   HQIC                           326.468\n",
              "                                       - 11-30-2192                                         \n",
              "Covariance Type:                                opg                                         \n",
              "==============================================================================\n",
              "                 coef    std err          z      P>|z|      [0.025      0.975]\n",
              "------------------------------------------------------------------------------\n",
              "ma.L1         -0.4736      0.289     -1.641      0.101      -1.039       0.092\n",
              "ma.L2         -0.3234      0.178     -1.819      0.069      -0.672       0.025\n",
              "ar.S.L12       0.9896      0.132      7.508      0.000       0.731       1.248\n",
              "ma.S.L12      -1.0000   1.17e+04  -8.52e-05      1.000    -2.3e+04     2.3e+04\n",
              "sigma2        55.4071    6.5e+05   8.52e-05      1.000   -1.27e+06    1.27e+06\n",
              "===================================================================================\n",
              "Ljung-Box (L1) (Q):                   0.17   Jarque-Bera (JB):                48.08\n",
              "Prob(Q):                              0.68   Prob(JB):                         0.00\n",
              "Heteroskedasticity (H):               2.96   Skew:                             1.24\n",
              "Prob(H) (two-sided):                  0.05   Kurtosis:                         7.55\n",
              "===================================================================================\n",
              "\n",
              "Warnings:\n",
              "[1] Covariance matrix calculated using the outer product of gradients (complex-step).\n",
              "\"\"\""
            ],
            "text/html": [
              "<table class=\"simpletable\">\n",
              "<caption>SARIMAX Results</caption>\n",
              "<tr>\n",
              "  <th>Dep. Variable:</th>           <td>989-28-229-0197-6</td>        <th>  No. Observations:  </th>    <td>59</td>   \n",
              "</tr>\n",
              "<tr>\n",
              "  <th>Model:</th>           <td>SARIMAX(0, 1, 2)x(1, 0, [1], 12)</td> <th>  Log Likelihood     </th> <td>-156.610</td>\n",
              "</tr>\n",
              "<tr>\n",
              "  <th>Date:</th>                    <td>Sat, 04 Nov 2023</td>         <th>  AIC                </th>  <td>323.221</td>\n",
              "</tr>\n",
              "<tr>\n",
              "  <th>Time:</th>                        <td>16:58:15</td>             <th>  BIC                </th>  <td>332.027</td>\n",
              "</tr>\n",
              "<tr>\n",
              "  <th>Sample:</th>                     <td>01-31-2188</td>            <th>  HQIC               </th>  <td>326.468</td>\n",
              "</tr>\n",
              "<tr>\n",
              "  <th></th>                           <td>- 11-30-2192</td>           <th>                     </th>     <td> </td>   \n",
              "</tr>\n",
              "<tr>\n",
              "  <th>Covariance Type:</th>                <td>opg</td>               <th>                     </th>     <td> </td>   \n",
              "</tr>\n",
              "</table>\n",
              "<table class=\"simpletable\">\n",
              "<tr>\n",
              "      <td></td>        <th>coef</th>     <th>std err</th>      <th>z</th>      <th>P>|z|</th>  <th>[0.025</th>    <th>0.975]</th>  \n",
              "</tr>\n",
              "<tr>\n",
              "  <th>ma.L1</th>    <td>   -0.4736</td> <td>    0.289</td> <td>   -1.641</td> <td> 0.101</td> <td>   -1.039</td> <td>    0.092</td>\n",
              "</tr>\n",
              "<tr>\n",
              "  <th>ma.L2</th>    <td>   -0.3234</td> <td>    0.178</td> <td>   -1.819</td> <td> 0.069</td> <td>   -0.672</td> <td>    0.025</td>\n",
              "</tr>\n",
              "<tr>\n",
              "  <th>ar.S.L12</th> <td>    0.9896</td> <td>    0.132</td> <td>    7.508</td> <td> 0.000</td> <td>    0.731</td> <td>    1.248</td>\n",
              "</tr>\n",
              "<tr>\n",
              "  <th>ma.S.L12</th> <td>   -1.0000</td> <td> 1.17e+04</td> <td>-8.52e-05</td> <td> 1.000</td> <td> -2.3e+04</td> <td>  2.3e+04</td>\n",
              "</tr>\n",
              "<tr>\n",
              "  <th>sigma2</th>   <td>   55.4071</td> <td>  6.5e+05</td> <td> 8.52e-05</td> <td> 1.000</td> <td>-1.27e+06</td> <td> 1.27e+06</td>\n",
              "</tr>\n",
              "</table>\n",
              "<table class=\"simpletable\">\n",
              "<tr>\n",
              "  <th>Ljung-Box (L1) (Q):</th>     <td>0.17</td> <th>  Jarque-Bera (JB):  </th> <td>48.08</td>\n",
              "</tr>\n",
              "<tr>\n",
              "  <th>Prob(Q):</th>                <td>0.68</td> <th>  Prob(JB):          </th> <td>0.00</td> \n",
              "</tr>\n",
              "<tr>\n",
              "  <th>Heteroskedasticity (H):</th> <td>2.96</td> <th>  Skew:              </th> <td>1.24</td> \n",
              "</tr>\n",
              "<tr>\n",
              "  <th>Prob(H) (two-sided):</th>    <td>0.05</td> <th>  Kurtosis:          </th> <td>7.55</td> \n",
              "</tr>\n",
              "</table><br/><br/>Warnings:<br/>[1] Covariance matrix calculated using the outer product of gradients (complex-step)."
            ],
            "text/latex": "\\begin{center}\n\\begin{tabular}{lclc}\n\\toprule\n\\textbf{Dep. Variable:}          &        989-28-229-0197-6         & \\textbf{  No. Observations:  } &     59      \\\\\n\\textbf{Model:}                  & SARIMAX(0, 1, 2)x(1, 0, [1], 12) & \\textbf{  Log Likelihood     } &  -156.610   \\\\\n\\textbf{Date:}                   &         Sat, 04 Nov 2023         & \\textbf{  AIC                } &  323.221    \\\\\n\\textbf{Time:}                   &             16:58:15             & \\textbf{  BIC                } &  332.027    \\\\\n\\textbf{Sample:}                 &            01-31-2188            & \\textbf{  HQIC               } &  326.468    \\\\\n\\textbf{}                        &           - 11-30-2192           & \\textbf{                     } &             \\\\\n\\textbf{Covariance Type:}        &               opg                & \\textbf{                     } &             \\\\\n\\bottomrule\n\\end{tabular}\n\\begin{tabular}{lcccccc}\n                  & \\textbf{coef} & \\textbf{std err} & \\textbf{z} & \\textbf{P$> |$z$|$} & \\textbf{[0.025} & \\textbf{0.975]}  \\\\\n\\midrule\n\\textbf{ma.L1}    &      -0.4736  &        0.289     &    -1.641  &         0.101        &       -1.039    &        0.092     \\\\\n\\textbf{ma.L2}    &      -0.3234  &        0.178     &    -1.819  &         0.069        &       -0.672    &        0.025     \\\\\n\\textbf{ar.S.L12} &       0.9896  &        0.132     &     7.508  &         0.000        &        0.731    &        1.248     \\\\\n\\textbf{ma.S.L12} &      -1.0000  &     1.17e+04     & -8.52e-05  &         1.000        &     -2.3e+04    &      2.3e+04     \\\\\n\\textbf{sigma2}   &      55.4071  &      6.5e+05     &  8.52e-05  &         1.000        &    -1.27e+06    &     1.27e+06     \\\\\n\\bottomrule\n\\end{tabular}\n\\begin{tabular}{lclc}\n\\textbf{Ljung-Box (L1) (Q):}     & 0.17 & \\textbf{  Jarque-Bera (JB):  } & 48.08  \\\\\n\\textbf{Prob(Q):}                & 0.68 & \\textbf{  Prob(JB):          } &  0.00  \\\\\n\\textbf{Heteroskedasticity (H):} & 2.96 & \\textbf{  Skew:              } &  1.24  \\\\\n\\textbf{Prob(H) (two-sided):}    & 0.05 & \\textbf{  Kurtosis:          } &  7.55  \\\\\n\\bottomrule\n\\end{tabular}\n%\\caption{SARIMAX Results}\n\\end{center}\n\nWarnings: \\newline\n [1] Covariance matrix calculated using the outer product of gradients (complex-step)."
          },
          "metadata": {},
          "execution_count": 222
        }
      ]
    },
    {
      "cell_type": "code",
      "source": [
        "single_book_sales_test = test_data[isbn_to_forecast]\n",
        "single_book_sales_test"
      ],
      "metadata": {
        "colab": {
          "base_uri": "https://localhost:8080/"
        },
        "id": "C2CT00a4ThHB",
        "outputId": "fce189a8-9219-47e9-f667-41f3b23c7ff2"
      },
      "execution_count": null,
      "outputs": [
        {
          "output_type": "execute_result",
          "data": {
            "text/plain": [
              "Sale Date\n",
              "2192-12    38\n",
              "2193-01    18\n",
              "2193-02    16\n",
              "2193-03    26\n",
              "2193-04    38\n",
              "2193-05    34\n",
              "2193-06    43\n",
              "2193-07    83\n",
              "2193-08    77\n",
              "2193-09    46\n",
              "2193-10    38\n",
              "2193-11    34\n",
              "2193-12    49\n",
              "Freq: M, Name: 989-28-229-0197-6, dtype: int64"
            ]
          },
          "metadata": {},
          "execution_count": 211
        }
      ]
    },
    {
      "cell_type": "code",
      "source": [
        "# Predictions for 2194\n",
        "from sklearn.metrics import mean_squared_error\n",
        "sarima_predictions = best_sarima_model_fit.forecast(len(single_book_sales_test))\n",
        "sarima_mse = mean_squared_error(single_book_sales_test, sarima_predictions)\n",
        "\n",
        "new_sarima_residuals = single_book_sales_test - sarima_predictions\n",
        "new_sarima_residuals, sarima_predictions, sarima_mse\n"
      ],
      "metadata": {
        "colab": {
          "base_uri": "https://localhost:8080/"
        },
        "id": "Hb0GvQEBR4c4",
        "outputId": "b1a6ff25-529e-4ce1-cb34-19fc1a3271e1"
      },
      "execution_count": null,
      "outputs": [
        {
          "output_type": "execute_result",
          "data": {
            "text/plain": [
              "(Sale Date\n",
              " 2192-12    -2.919839\n",
              " 2193-01   -12.540945\n",
              " 2193-02    -8.134614\n",
              " 2193-03    -5.451723\n",
              " 2193-04    -6.965524\n",
              " 2193-05    -9.078283\n",
              " 2193-06     0.086137\n",
              " 2193-07    21.810217\n",
              " 2193-08    14.016519\n",
              " 2193-09   -10.086040\n",
              " 2193-10    -2.540977\n",
              " 2193-11    -4.988868\n",
              " 2193-12     5.182994\n",
              " Freq: M, dtype: float64,\n",
              " 2192-12    40.919839\n",
              " 2193-01    30.540945\n",
              " 2193-02    24.134614\n",
              " 2193-03    31.451723\n",
              " 2193-04    44.965524\n",
              " 2193-05    43.078283\n",
              " 2193-06    42.913863\n",
              " 2193-07    61.189783\n",
              " 2193-08    62.983481\n",
              " 2193-09    56.086040\n",
              " 2193-10    40.540977\n",
              " 2193-11    38.988868\n",
              " 2193-12    43.817006\n",
              " Freq: M, Name: predicted_mean, dtype: float64,\n",
              " 94.20926830035943)"
            ]
          },
          "metadata": {},
          "execution_count": 212
        }
      ]
    },
    {
      "cell_type": "code",
      "source": [
        "from sklearn.preprocessing import MinMaxScaler\n",
        "from keras.models import Sequential\n",
        "from keras.layers import Dense, LSTM, Dropout\n",
        "from keras.preprocessing.sequence import TimeseriesGenerator\n",
        "import numpy as np\n",
        "\n",
        "# Assuming 'new_sarima_residuals' contains the residuals from your SARIMA model\n",
        "# Reshape the residuals data for LSTM model\n",
        "residuals_data = new_sarima_residuals.values.reshape(-1, 1)\n",
        "\n",
        "# Normalize the residuals data\n",
        "scaler = MinMaxScaler(feature_range=(0, 1))\n",
        "scaled_residuals = scaler.fit_transform(residuals_data)\n",
        "\n",
        "# Specify LSTM training parameters\n",
        "n_input = 1  # number of inputs (we will use one lagged observation)\n",
        "n_features = 1  # number of features (this dataset is univariate)\n",
        "batch_size = 1  # number of observations per batch\n",
        "epochs = 200  # number of epochs\n",
        "\n",
        "# Generate training data for LSTM\n",
        "generator = TimeseriesGenerator(scaled_residuals, scaled_residuals, length=n_input, batch_size=batch_size)"
      ],
      "metadata": {
        "id": "5gE2UXU6fKFH"
      },
      "execution_count": null,
      "outputs": []
    },
    {
      "cell_type": "code",
      "source": [
        "# Define LSTM model\n",
        "lstm_model = Sequential()\n",
        "lstm_model.add(LSTM(50, activation='relu', input_shape=(n_input, n_features), return_sequences=True))\n",
        "lstm_model.add(Dropout(0.2))\n",
        "lstm_model.add(LSTM(50, activation='relu', return_sequences=False))\n",
        "lstm_model.add(Dropout(0.2))\n",
        "lstm_model.add(Dense(25, activation='relu'))\n",
        "lstm_model.add(Dropout(0.2))\n",
        "lstm_model.add(Dense(1))\n",
        "lstm_model.compile(optimizer='adam', loss='mse')\n",
        "lstm_model.summary()"
      ],
      "metadata": {
        "colab": {
          "base_uri": "https://localhost:8080/"
        },
        "id": "7WIz-lyKR8H3",
        "outputId": "569e0e20-f9bc-4b10-cc87-cc101cae45eb"
      },
      "execution_count": null,
      "outputs": [
        {
          "output_type": "stream",
          "name": "stdout",
          "text": [
            "Model: \"sequential_17\"\n",
            "_________________________________________________________________\n",
            " Layer (type)                Output Shape              Param #   \n",
            "=================================================================\n",
            " lstm_25 (LSTM)              (None, 1, 50)             10400     \n",
            "                                                                 \n",
            " dropout_24 (Dropout)        (None, 1, 50)             0         \n",
            "                                                                 \n",
            " lstm_26 (LSTM)              (None, 50)                20200     \n",
            "                                                                 \n",
            " dropout_25 (Dropout)        (None, 50)                0         \n",
            "                                                                 \n",
            " dense_25 (Dense)            (None, 25)                1275      \n",
            "                                                                 \n",
            " dropout_26 (Dropout)        (None, 25)                0         \n",
            "                                                                 \n",
            " dense_26 (Dense)            (None, 1)                 26        \n",
            "                                                                 \n",
            "=================================================================\n",
            "Total params: 31901 (124.61 KB)\n",
            "Trainable params: 31901 (124.61 KB)\n",
            "Non-trainable params: 0 (0.00 Byte)\n",
            "_________________________________________________________________\n"
          ]
        }
      ]
    },
    {
      "cell_type": "code",
      "source": [
        "# Fit the LSTM model\n",
        "lstm_model.fit(generator, epochs=epochs, verbose=0)\n",
        "\n",
        "# Make predictions\n",
        "lstm_predictions_scaled = lstm_model.predict(generator)\n",
        "\n",
        "# Inverse transform to get the actual predictions\n",
        "lstm_predictions = scaler.inverse_transform(lstm_predictions_scaled)"
      ],
      "metadata": {
        "colab": {
          "base_uri": "https://localhost:8080/"
        },
        "id": "2ooOFKmZruWD",
        "outputId": "b7919fca-e0c9-415f-e138-eea8f23c94cf"
      },
      "execution_count": null,
      "outputs": [
        {
          "output_type": "stream",
          "name": "stdout",
          "text": [
            "12/12 [==============================] - 0s 2ms/step\n"
          ]
        }
      ]
    },
    {
      "cell_type": "code",
      "source": [
        "mean_squared_error(single_book_sales_test.to_numpy()[1:], sarima_predictions.to_numpy()[1:] + lstm_predictions.ravel())"
      ],
      "metadata": {
        "colab": {
          "base_uri": "https://localhost:8080/"
        },
        "id": "OZ2zqbyGfmzu",
        "outputId": "1df424bc-f839-4346-a888-fda19af000bb"
      },
      "execution_count": null,
      "outputs": [
        {
          "output_type": "execute_result",
          "data": {
            "text/plain": [
              "86.18941915592457"
            ]
          },
          "metadata": {},
          "execution_count": 217
        }
      ]
    },
    {
      "cell_type": "code",
      "source": [
        "lstm_predictions"
      ],
      "metadata": {
        "colab": {
          "base_uri": "https://localhost:8080/"
        },
        "id": "8r1W4vS6DszB",
        "outputId": "20059cbf-dfbe-4812-808d-eaaaaa21ca0a"
      },
      "execution_count": null,
      "outputs": [
        {
          "output_type": "execute_result",
          "data": {
            "text/plain": [
              "array([[-1.8415096],\n",
              "       [-4.281099 ],\n",
              "       [-3.329308 ],\n",
              "       [-2.5911107],\n",
              "       [-3.020167 ],\n",
              "       [-3.559148 ],\n",
              "       [-0.9119589],\n",
              "       [ 7.243624 ],\n",
              "       [ 4.005067 ],\n",
              "       [-3.7998712],\n",
              "       [-1.7267336],\n",
              "       [-2.456479 ]], dtype=float32)"
            ]
          },
          "metadata": {},
          "execution_count": 220
        }
      ]
    },
    {
      "cell_type": "code",
      "source": [
        "import math\n",
        "\n",
        "final_predictions = np.array([math.floor(x) for x in sarima_predictions.to_numpy()[1:] + lstm_predictions.ravel()])\n",
        "final_predictions"
      ],
      "metadata": {
        "colab": {
          "base_uri": "https://localhost:8080/"
        },
        "id": "00tAHHtRssQ3",
        "outputId": "ecd325c2-c1e8-4c7c-fce1-dcd20c38cd44"
      },
      "execution_count": null,
      "outputs": [
        {
          "output_type": "execute_result",
          "data": {
            "text/plain": [
              "array([28, 19, 28, 42, 40, 39, 60, 70, 60, 36, 37, 41])"
            ]
          },
          "metadata": {},
          "execution_count": 221
        }
      ]
    }
  ]
}