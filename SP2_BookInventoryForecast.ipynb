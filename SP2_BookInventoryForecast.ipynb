{
  "nbformat": 4,
  "nbformat_minor": 0,
  "metadata": {
    "colab": {
      "provenance": []
    },
    "kernelspec": {
      "name": "python3",
      "display_name": "Python 3"
    },
    "language_info": {
      "name": "python"
    }
  },
  "cells": [
    {
      "cell_type": "code",
      "source": [
        "!pip install pymongo"
      ],
      "metadata": {
        "colab": {
          "base_uri": "https://localhost:8080/"
        },
        "id": "oEXYB-sWBfh8",
        "outputId": "52b3594c-5600-47e4-ae3b-3c69ef0839b3"
      },
      "execution_count": null,
      "outputs": [
        {
          "output_type": "stream",
          "name": "stdout",
          "text": [
            "Collecting pymongo\n",
            "  Downloading pymongo-4.6.1-cp310-cp310-manylinux_2_17_x86_64.manylinux2014_x86_64.whl (677 kB)\n",
            "\u001b[2K     \u001b[90m━━━━━━━━━━━━━━━━━━━━━━━━━━━━━━━━━━━━━━━━\u001b[0m \u001b[32m677.1/677.1 kB\u001b[0m \u001b[31m6.7 MB/s\u001b[0m eta \u001b[36m0:00:00\u001b[0m\n",
            "\u001b[?25hCollecting dnspython<3.0.0,>=1.16.0 (from pymongo)\n",
            "  Downloading dnspython-2.4.2-py3-none-any.whl (300 kB)\n",
            "\u001b[2K     \u001b[90m━━━━━━━━━━━━━━━━━━━━━━━━━━━━━━━━━━━━━━━━\u001b[0m \u001b[32m300.4/300.4 kB\u001b[0m \u001b[31m9.4 MB/s\u001b[0m eta \u001b[36m0:00:00\u001b[0m\n",
            "\u001b[?25hInstalling collected packages: dnspython, pymongo\n",
            "Successfully installed dnspython-2.4.2 pymongo-4.6.1\n"
          ]
        }
      ]
    },
    {
      "cell_type": "code",
      "source": [
        "import numpy as np\n",
        "import pandas as pd\n",
        "from pymongo import MongoClient\n",
        "\n",
        "from google.colab import drive\n",
        "drive.mount(\"/content/gdrive\")\n",
        "import warnings\n",
        "warnings.filterwarnings(action='ignore')\n",
        "\n",
        "access_cert_path = '/content/gdrive/MyDrive/SoftwareProject2/sources/X509-cert-823328410369210316.pem'"
      ],
      "metadata": {
        "id": "jFHyXqSrMJxr",
        "colab": {
          "base_uri": "https://localhost:8080/"
        },
        "outputId": "371812f7-62ff-4394-efc5-8f113b1a1196"
      },
      "execution_count": null,
      "outputs": [
        {
          "output_type": "stream",
          "name": "stdout",
          "text": [
            "Mounted at /content/gdrive\n"
          ]
        }
      ]
    },
    {
      "cell_type": "code",
      "source": [
        "from pymongo.server_api import ServerApi\n",
        "from pymongo import MongoClient\n",
        "\n",
        "#uri = \"mongodb+srv://cluster0.abc0jxe.mongodb.net/?authSource=%24external&authMechanism=MONGODB-X509&retryWrites=true&w=majority\"\n",
        "uri = \"mongodb+srv://cluster0.5u1gnfg.mongodb.net/?authSource=%24external&authMechanism=MONGODB-X509&retryWrites=true&w=majority\"\n",
        "client = MongoClient(uri,\n",
        "                     tls=True,\n",
        "                     tlsCertificateKeyFile=access_cert_path,\n",
        "                     server_api=ServerApi('1'))\n",
        "db = client['Bookshop']\n",
        "collection = db['Sales']\n",
        "collection.count_documents({})"
      ],
      "metadata": {
        "colab": {
          "base_uri": "https://localhost:8080/"
        },
        "id": "x6QrkZc7Bu3W",
        "outputId": "84106710-d43b-4fe6-ddfe-d421bbee57c5"
      },
      "execution_count": null,
      "outputs": [
        {
          "output_type": "execute_result",
          "data": {
            "text/plain": [
              "262976"
            ]
          },
          "metadata": {},
          "execution_count": 3
        }
      ]
    },
    {
      "cell_type": "code",
      "source": [
        "data = list(collection.find())\n",
        "sales_data = pd.DataFrame(data)"
      ],
      "metadata": {
        "id": "dFSiU3PjCLbZ"
      },
      "execution_count": null,
      "outputs": []
    },
    {
      "cell_type": "code",
      "source": [
        "sales_data.drop(columns=['_id'], inplace=True)\n",
        "sales_data['Sale Date'] = pd.to_datetime(sales_data['Sale Date'])\n",
        "sales_data.set_index('Sale Date', inplace=True)\n",
        "\n",
        "# Group by ISBN and month, and count the number of sales\n",
        "monthly_sales = sales_data.groupby([sales_data.index.to_period('M'), 'ISBN']).size().reset_index(name='Sales')\n",
        "\n",
        "# Pivot the table to have dates as rows and books as columns, filling missing values with 0\n",
        "sales_pivot = monthly_sales.pivot_table(index='Sale Date', columns='ISBN', values='Sales', fill_value=0)\n"
      ],
      "metadata": {
        "id": "0gHsaZYkMQqX"
      },
      "execution_count": null,
      "outputs": []
    },
    {
      "cell_type": "code",
      "source": [
        "# Split the data into training and test sets\n",
        "train_data = sales_pivot[np.logical_and(sales_pivot.index.year < 2023,np.logical_not(np.logical_and(sales_pivot.index.month==12, sales_pivot.index.year==2022)))]\n",
        "test_data = sales_pivot[np.logical_or(np.logical_and(sales_pivot.index.month==12, sales_pivot.index.year==2022),sales_pivot.index.year==2023)]\n",
        "\n",
        "print(train_data.shape)\n",
        "print(test_data.shape)\n"
      ],
      "metadata": {
        "id": "_oXZzaK_MmWh",
        "colab": {
          "base_uri": "https://localhost:8080/"
        },
        "outputId": "dc608729-dff3-4f21-cd93-ca4a60414eac"
      },
      "execution_count": null,
      "outputs": [
        {
          "output_type": "stream",
          "name": "stdout",
          "text": [
            "(59, 93)\n",
            "(13, 93)\n"
          ]
        }
      ]
    },
    {
      "cell_type": "code",
      "source": [
        "from statsmodels.tsa.statespace.sarimax import SARIMAX\n",
        "from statsmodels.tsa.stattools import adfuller\n",
        "import numpy as np\n",
        "\n",
        "def adf_test(timeseries):\n",
        "    result = adfuller(timeseries, autolag='AIC')\n",
        "    return result[1]\n",
        "\n",
        "# Function to find the optimal SARIMA order\n",
        "def optimize_sarima(parameters_list, seasonal_parameters_list, d, D, s, time_series):\n",
        "    \"\"\"\n",
        "    Return dataframe with parameters and corresponding AIC\n",
        "\n",
        "    parameters_list - list with (p, q, P, Q) tuples\n",
        "    d, D - integration order, seasonal integration order\n",
        "    s - length of season\n",
        "    time_series - the observed time series\n",
        "    \"\"\"\n",
        "\n",
        "    results = []\n",
        "\n",
        "    for param in parameters_list:\n",
        "        for param_seasonal in seasonal_parameters_list:\n",
        "            try:\n",
        "                model = SARIMAX(time_series,\n",
        "                                order=(param[0], d, param[1]),\n",
        "                                seasonal_order=(param_seasonal[0], D, param_seasonal[1], s),\n",
        "                                enforce_stationarity=False,\n",
        "                                enforce_invertibility=False,\n",
        "                                disp=False)\n",
        "                results.append([param, param_seasonal, model.fit(disp=False).aic])\n",
        "            except:\n",
        "                continue\n",
        "\n",
        "    result_df = pd.DataFrame(results, columns=['param', 'param_seasonal', 'aic'])\n",
        "    result_df = result_df.sort_values(by='aic', ascending=True).reset_index(drop=True)\n",
        "\n",
        "    return result_df\n",
        "\n",
        "\n",
        "isbn_to_forecast = sales_pivot.columns[0]\n",
        "single_book_sales = train_data[isbn_to_forecast]\n",
        "\n",
        "adf_p_value = adf_test(single_book_sales)\n",
        "\n",
        "if adf_p_value > 0.05:\n",
        "    d = 1\n",
        "else:\n",
        "    d = 0\n",
        "\n",
        "# Set seasonal parameters\n",
        "# Assuming a yearly seasonality for book sales\n",
        "s = 12\n",
        "D = 1 if d == 0 else 0  # If we already have differenced, no need for seasonal differencing\n",
        "\n",
        "# Define p, q, P, Q ranges to test\n",
        "p = range(0, 3)  # AR terms\n",
        "q = range(0, 3)  # MA terms\n",
        "P = range(0, 2)  # Seasonal AR terms\n",
        "Q = range(0, 2)  # Seasonal MA terms\n",
        "\n",
        "parameters = [(x[0], x[1]) for x in list(np.ndindex((len(p), len(q))))]\n",
        "seasonal_parameters = [(x[0], x[1]) for x in list(np.ndindex((len(P), len(Q))))]\n",
        "\n",
        "# Optimize SARIMA parameters\n",
        "optimal_params_df = optimize_sarima(parameters, seasonal_parameters, d, D, s, single_book_sales)\n",
        "\n",
        "optimal_params_df.head()\n"
      ],
      "metadata": {
        "colab": {
          "base_uri": "https://localhost:8080/",
          "height": 778
        },
        "id": "GObq6bNnMzxk",
        "outputId": "043daa95-f588-4a11-b5ae-4c3a7a6badb6"
      },
      "execution_count": null,
      "outputs": [
        {
          "output_type": "stream",
          "name": "stderr",
          "text": [
            "/usr/local/lib/python3.10/dist-packages/statsmodels/base/model.py:607: ConvergenceWarning: Maximum Likelihood optimization failed to converge. Check mle_retvals\n",
            "  warnings.warn(\"Maximum Likelihood optimization failed to \"\n",
            "/usr/local/lib/python3.10/dist-packages/statsmodels/base/model.py:607: ConvergenceWarning: Maximum Likelihood optimization failed to converge. Check mle_retvals\n",
            "  warnings.warn(\"Maximum Likelihood optimization failed to \"\n",
            "/usr/local/lib/python3.10/dist-packages/statsmodels/base/model.py:607: ConvergenceWarning: Maximum Likelihood optimization failed to converge. Check mle_retvals\n",
            "  warnings.warn(\"Maximum Likelihood optimization failed to \"\n",
            "/usr/local/lib/python3.10/dist-packages/statsmodels/base/model.py:607: ConvergenceWarning: Maximum Likelihood optimization failed to converge. Check mle_retvals\n",
            "  warnings.warn(\"Maximum Likelihood optimization failed to \"\n",
            "/usr/local/lib/python3.10/dist-packages/statsmodels/base/model.py:607: ConvergenceWarning: Maximum Likelihood optimization failed to converge. Check mle_retvals\n",
            "  warnings.warn(\"Maximum Likelihood optimization failed to \"\n",
            "/usr/local/lib/python3.10/dist-packages/statsmodels/base/model.py:607: ConvergenceWarning: Maximum Likelihood optimization failed to converge. Check mle_retvals\n",
            "  warnings.warn(\"Maximum Likelihood optimization failed to \"\n",
            "/usr/local/lib/python3.10/dist-packages/statsmodels/base/model.py:607: ConvergenceWarning: Maximum Likelihood optimization failed to converge. Check mle_retvals\n",
            "  warnings.warn(\"Maximum Likelihood optimization failed to \"\n",
            "/usr/local/lib/python3.10/dist-packages/statsmodels/base/model.py:607: ConvergenceWarning: Maximum Likelihood optimization failed to converge. Check mle_retvals\n",
            "  warnings.warn(\"Maximum Likelihood optimization failed to \"\n",
            "/usr/local/lib/python3.10/dist-packages/statsmodels/base/model.py:607: ConvergenceWarning: Maximum Likelihood optimization failed to converge. Check mle_retvals\n",
            "  warnings.warn(\"Maximum Likelihood optimization failed to \"\n",
            "/usr/local/lib/python3.10/dist-packages/statsmodels/base/model.py:607: ConvergenceWarning: Maximum Likelihood optimization failed to converge. Check mle_retvals\n",
            "  warnings.warn(\"Maximum Likelihood optimization failed to \"\n",
            "/usr/local/lib/python3.10/dist-packages/statsmodels/base/model.py:607: ConvergenceWarning: Maximum Likelihood optimization failed to converge. Check mle_retvals\n",
            "  warnings.warn(\"Maximum Likelihood optimization failed to \"\n",
            "/usr/local/lib/python3.10/dist-packages/statsmodels/base/model.py:607: ConvergenceWarning: Maximum Likelihood optimization failed to converge. Check mle_retvals\n",
            "  warnings.warn(\"Maximum Likelihood optimization failed to \"\n",
            "/usr/local/lib/python3.10/dist-packages/statsmodels/base/model.py:607: ConvergenceWarning: Maximum Likelihood optimization failed to converge. Check mle_retvals\n",
            "  warnings.warn(\"Maximum Likelihood optimization failed to \"\n",
            "/usr/local/lib/python3.10/dist-packages/statsmodels/base/model.py:607: ConvergenceWarning: Maximum Likelihood optimization failed to converge. Check mle_retvals\n",
            "  warnings.warn(\"Maximum Likelihood optimization failed to \"\n",
            "/usr/local/lib/python3.10/dist-packages/statsmodels/base/model.py:607: ConvergenceWarning: Maximum Likelihood optimization failed to converge. Check mle_retvals\n",
            "  warnings.warn(\"Maximum Likelihood optimization failed to \"\n",
            "/usr/local/lib/python3.10/dist-packages/statsmodels/base/model.py:607: ConvergenceWarning: Maximum Likelihood optimization failed to converge. Check mle_retvals\n",
            "  warnings.warn(\"Maximum Likelihood optimization failed to \"\n"
          ]
        },
        {
          "output_type": "execute_result",
          "data": {
            "text/plain": [
              "    param param_seasonal         aic\n",
              "0  (2, 0)         (1, 0)  176.234329\n",
              "1  (2, 2)         (1, 0)  177.302246\n",
              "2  (2, 1)         (1, 0)  177.952680\n",
              "3  (1, 1)         (1, 0)  179.487934\n",
              "4  (1, 2)         (1, 0)  181.422372"
            ],
            "text/html": [
              "\n",
              "  <div id=\"df-5b4c7730-447d-4cf2-8422-19c0a575fceb\" class=\"colab-df-container\">\n",
              "    <div>\n",
              "<style scoped>\n",
              "    .dataframe tbody tr th:only-of-type {\n",
              "        vertical-align: middle;\n",
              "    }\n",
              "\n",
              "    .dataframe tbody tr th {\n",
              "        vertical-align: top;\n",
              "    }\n",
              "\n",
              "    .dataframe thead th {\n",
              "        text-align: right;\n",
              "    }\n",
              "</style>\n",
              "<table border=\"1\" class=\"dataframe\">\n",
              "  <thead>\n",
              "    <tr style=\"text-align: right;\">\n",
              "      <th></th>\n",
              "      <th>param</th>\n",
              "      <th>param_seasonal</th>\n",
              "      <th>aic</th>\n",
              "    </tr>\n",
              "  </thead>\n",
              "  <tbody>\n",
              "    <tr>\n",
              "      <th>0</th>\n",
              "      <td>(2, 0)</td>\n",
              "      <td>(1, 0)</td>\n",
              "      <td>176.234329</td>\n",
              "    </tr>\n",
              "    <tr>\n",
              "      <th>1</th>\n",
              "      <td>(2, 2)</td>\n",
              "      <td>(1, 0)</td>\n",
              "      <td>177.302246</td>\n",
              "    </tr>\n",
              "    <tr>\n",
              "      <th>2</th>\n",
              "      <td>(2, 1)</td>\n",
              "      <td>(1, 0)</td>\n",
              "      <td>177.952680</td>\n",
              "    </tr>\n",
              "    <tr>\n",
              "      <th>3</th>\n",
              "      <td>(1, 1)</td>\n",
              "      <td>(1, 0)</td>\n",
              "      <td>179.487934</td>\n",
              "    </tr>\n",
              "    <tr>\n",
              "      <th>4</th>\n",
              "      <td>(1, 2)</td>\n",
              "      <td>(1, 0)</td>\n",
              "      <td>181.422372</td>\n",
              "    </tr>\n",
              "  </tbody>\n",
              "</table>\n",
              "</div>\n",
              "    <div class=\"colab-df-buttons\">\n",
              "\n",
              "  <div class=\"colab-df-container\">\n",
              "    <button class=\"colab-df-convert\" onclick=\"convertToInteractive('df-5b4c7730-447d-4cf2-8422-19c0a575fceb')\"\n",
              "            title=\"Convert this dataframe to an interactive table.\"\n",
              "            style=\"display:none;\">\n",
              "\n",
              "  <svg xmlns=\"http://www.w3.org/2000/svg\" height=\"24px\" viewBox=\"0 -960 960 960\">\n",
              "    <path d=\"M120-120v-720h720v720H120Zm60-500h600v-160H180v160Zm220 220h160v-160H400v160Zm0 220h160v-160H400v160ZM180-400h160v-160H180v160Zm440 0h160v-160H620v160ZM180-180h160v-160H180v160Zm440 0h160v-160H620v160Z\"/>\n",
              "  </svg>\n",
              "    </button>\n",
              "\n",
              "  <style>\n",
              "    .colab-df-container {\n",
              "      display:flex;\n",
              "      gap: 12px;\n",
              "    }\n",
              "\n",
              "    .colab-df-convert {\n",
              "      background-color: #E8F0FE;\n",
              "      border: none;\n",
              "      border-radius: 50%;\n",
              "      cursor: pointer;\n",
              "      display: none;\n",
              "      fill: #1967D2;\n",
              "      height: 32px;\n",
              "      padding: 0 0 0 0;\n",
              "      width: 32px;\n",
              "    }\n",
              "\n",
              "    .colab-df-convert:hover {\n",
              "      background-color: #E2EBFA;\n",
              "      box-shadow: 0px 1px 2px rgba(60, 64, 67, 0.3), 0px 1px 3px 1px rgba(60, 64, 67, 0.15);\n",
              "      fill: #174EA6;\n",
              "    }\n",
              "\n",
              "    .colab-df-buttons div {\n",
              "      margin-bottom: 4px;\n",
              "    }\n",
              "\n",
              "    [theme=dark] .colab-df-convert {\n",
              "      background-color: #3B4455;\n",
              "      fill: #D2E3FC;\n",
              "    }\n",
              "\n",
              "    [theme=dark] .colab-df-convert:hover {\n",
              "      background-color: #434B5C;\n",
              "      box-shadow: 0px 1px 3px 1px rgba(0, 0, 0, 0.15);\n",
              "      filter: drop-shadow(0px 1px 2px rgba(0, 0, 0, 0.3));\n",
              "      fill: #FFFFFF;\n",
              "    }\n",
              "  </style>\n",
              "\n",
              "    <script>\n",
              "      const buttonEl =\n",
              "        document.querySelector('#df-5b4c7730-447d-4cf2-8422-19c0a575fceb button.colab-df-convert');\n",
              "      buttonEl.style.display =\n",
              "        google.colab.kernel.accessAllowed ? 'block' : 'none';\n",
              "\n",
              "      async function convertToInteractive(key) {\n",
              "        const element = document.querySelector('#df-5b4c7730-447d-4cf2-8422-19c0a575fceb');\n",
              "        const dataTable =\n",
              "          await google.colab.kernel.invokeFunction('convertToInteractive',\n",
              "                                                    [key], {});\n",
              "        if (!dataTable) return;\n",
              "\n",
              "        const docLinkHtml = 'Like what you see? Visit the ' +\n",
              "          '<a target=\"_blank\" href=https://colab.research.google.com/notebooks/data_table.ipynb>data table notebook</a>'\n",
              "          + ' to learn more about interactive tables.';\n",
              "        element.innerHTML = '';\n",
              "        dataTable['output_type'] = 'display_data';\n",
              "        await google.colab.output.renderOutput(dataTable, element);\n",
              "        const docLink = document.createElement('div');\n",
              "        docLink.innerHTML = docLinkHtml;\n",
              "        element.appendChild(docLink);\n",
              "      }\n",
              "    </script>\n",
              "  </div>\n",
              "\n",
              "\n",
              "<div id=\"df-09645968-5083-4027-9949-41b33391453f\">\n",
              "  <button class=\"colab-df-quickchart\" onclick=\"quickchart('df-09645968-5083-4027-9949-41b33391453f')\"\n",
              "            title=\"Suggest charts\"\n",
              "            style=\"display:none;\">\n",
              "\n",
              "<svg xmlns=\"http://www.w3.org/2000/svg\" height=\"24px\"viewBox=\"0 0 24 24\"\n",
              "     width=\"24px\">\n",
              "    <g>\n",
              "        <path d=\"M19 3H5c-1.1 0-2 .9-2 2v14c0 1.1.9 2 2 2h14c1.1 0 2-.9 2-2V5c0-1.1-.9-2-2-2zM9 17H7v-7h2v7zm4 0h-2V7h2v10zm4 0h-2v-4h2v4z\"/>\n",
              "    </g>\n",
              "</svg>\n",
              "  </button>\n",
              "\n",
              "<style>\n",
              "  .colab-df-quickchart {\n",
              "      --bg-color: #E8F0FE;\n",
              "      --fill-color: #1967D2;\n",
              "      --hover-bg-color: #E2EBFA;\n",
              "      --hover-fill-color: #174EA6;\n",
              "      --disabled-fill-color: #AAA;\n",
              "      --disabled-bg-color: #DDD;\n",
              "  }\n",
              "\n",
              "  [theme=dark] .colab-df-quickchart {\n",
              "      --bg-color: #3B4455;\n",
              "      --fill-color: #D2E3FC;\n",
              "      --hover-bg-color: #434B5C;\n",
              "      --hover-fill-color: #FFFFFF;\n",
              "      --disabled-bg-color: #3B4455;\n",
              "      --disabled-fill-color: #666;\n",
              "  }\n",
              "\n",
              "  .colab-df-quickchart {\n",
              "    background-color: var(--bg-color);\n",
              "    border: none;\n",
              "    border-radius: 50%;\n",
              "    cursor: pointer;\n",
              "    display: none;\n",
              "    fill: var(--fill-color);\n",
              "    height: 32px;\n",
              "    padding: 0;\n",
              "    width: 32px;\n",
              "  }\n",
              "\n",
              "  .colab-df-quickchart:hover {\n",
              "    background-color: var(--hover-bg-color);\n",
              "    box-shadow: 0 1px 2px rgba(60, 64, 67, 0.3), 0 1px 3px 1px rgba(60, 64, 67, 0.15);\n",
              "    fill: var(--button-hover-fill-color);\n",
              "  }\n",
              "\n",
              "  .colab-df-quickchart-complete:disabled,\n",
              "  .colab-df-quickchart-complete:disabled:hover {\n",
              "    background-color: var(--disabled-bg-color);\n",
              "    fill: var(--disabled-fill-color);\n",
              "    box-shadow: none;\n",
              "  }\n",
              "\n",
              "  .colab-df-spinner {\n",
              "    border: 2px solid var(--fill-color);\n",
              "    border-color: transparent;\n",
              "    border-bottom-color: var(--fill-color);\n",
              "    animation:\n",
              "      spin 1s steps(1) infinite;\n",
              "  }\n",
              "\n",
              "  @keyframes spin {\n",
              "    0% {\n",
              "      border-color: transparent;\n",
              "      border-bottom-color: var(--fill-color);\n",
              "      border-left-color: var(--fill-color);\n",
              "    }\n",
              "    20% {\n",
              "      border-color: transparent;\n",
              "      border-left-color: var(--fill-color);\n",
              "      border-top-color: var(--fill-color);\n",
              "    }\n",
              "    30% {\n",
              "      border-color: transparent;\n",
              "      border-left-color: var(--fill-color);\n",
              "      border-top-color: var(--fill-color);\n",
              "      border-right-color: var(--fill-color);\n",
              "    }\n",
              "    40% {\n",
              "      border-color: transparent;\n",
              "      border-right-color: var(--fill-color);\n",
              "      border-top-color: var(--fill-color);\n",
              "    }\n",
              "    60% {\n",
              "      border-color: transparent;\n",
              "      border-right-color: var(--fill-color);\n",
              "    }\n",
              "    80% {\n",
              "      border-color: transparent;\n",
              "      border-right-color: var(--fill-color);\n",
              "      border-bottom-color: var(--fill-color);\n",
              "    }\n",
              "    90% {\n",
              "      border-color: transparent;\n",
              "      border-bottom-color: var(--fill-color);\n",
              "    }\n",
              "  }\n",
              "</style>\n",
              "\n",
              "  <script>\n",
              "    async function quickchart(key) {\n",
              "      const quickchartButtonEl =\n",
              "        document.querySelector('#' + key + ' button');\n",
              "      quickchartButtonEl.disabled = true;  // To prevent multiple clicks.\n",
              "      quickchartButtonEl.classList.add('colab-df-spinner');\n",
              "      try {\n",
              "        const charts = await google.colab.kernel.invokeFunction(\n",
              "            'suggestCharts', [key], {});\n",
              "      } catch (error) {\n",
              "        console.error('Error during call to suggestCharts:', error);\n",
              "      }\n",
              "      quickchartButtonEl.classList.remove('colab-df-spinner');\n",
              "      quickchartButtonEl.classList.add('colab-df-quickchart-complete');\n",
              "    }\n",
              "    (() => {\n",
              "      let quickchartButtonEl =\n",
              "        document.querySelector('#df-09645968-5083-4027-9949-41b33391453f button');\n",
              "      quickchartButtonEl.style.display =\n",
              "        google.colab.kernel.accessAllowed ? 'block' : 'none';\n",
              "    })();\n",
              "  </script>\n",
              "</div>\n",
              "\n",
              "    </div>\n",
              "  </div>\n"
            ]
          },
          "metadata": {},
          "execution_count": 7
        }
      ]
    },
    {
      "cell_type": "code",
      "source": [
        "min_value_row = optimal_params_df.loc[optimal_params_df['aic'].idxmin()]\n",
        "optimal_p, optimal_q = min_value_row['param']\n",
        "optimal_P, optimal_Q = min_value_row['param_seasonal']\n",
        "\n",
        "best_sarima_model = SARIMAX(single_book_sales,\n",
        "                            order=(optimal_p, d, optimal_q),\n",
        "                            seasonal_order=(optimal_P, D, optimal_Q, s),\n",
        "                            enforce_stationarity=False,\n",
        "                            enforce_invertibility=False)\n",
        "best_sarima_model_fit = best_sarima_model.fit(disp=False)\n",
        "best_sarima_model_fit.summary()\n"
      ],
      "metadata": {
        "colab": {
          "base_uri": "https://localhost:8080/",
          "height": 452
        },
        "id": "o3LAkNrYM9P-",
        "outputId": "c9870937-3367-495f-a86c-7b15f70d6b96"
      },
      "execution_count": null,
      "outputs": [
        {
          "output_type": "execute_result",
          "data": {
            "text/plain": [
              "<class 'statsmodels.iolib.summary.Summary'>\n",
              "\"\"\"\n",
              "                                     SARIMAX Results                                      \n",
              "==========================================================================================\n",
              "Dep. Variable:                            7176023   No. Observations:                   59\n",
              "Model:             SARIMAX(2, 0, 0)x(1, 1, 0, 12)   Log Likelihood                 -84.117\n",
              "Date:                            Thu, 30 Nov 2023   AIC                            176.234\n",
              "Time:                                    06:38:13   BIC                            182.220\n",
              "Sample:                                01-31-2018   HQIC                           178.248\n",
              "                                     - 11-30-2022                                         \n",
              "Covariance Type:                              opg                                         \n",
              "==============================================================================\n",
              "                 coef    std err          z      P>|z|      [0.025      0.975]\n",
              "------------------------------------------------------------------------------\n",
              "ar.L1          0.3203      0.221      1.447      0.148      -0.113       0.754\n",
              "ar.L2          0.3364      0.222      1.515      0.130      -0.099       0.771\n",
              "ar.S.L12      -0.9004      0.215     -4.191      0.000      -1.321      -0.479\n",
              "sigma2         9.5843      2.162      4.433      0.000       5.347      13.821\n",
              "===================================================================================\n",
              "Ljung-Box (L1) (Q):                   0.01   Jarque-Bera (JB):                 3.37\n",
              "Prob(Q):                              0.91   Prob(JB):                         0.19\n",
              "Heteroskedasticity (H):               5.59   Skew:                             0.71\n",
              "Prob(H) (two-sided):                  0.01   Kurtosis:                         3.65\n",
              "===================================================================================\n",
              "\n",
              "Warnings:\n",
              "[1] Covariance matrix calculated using the outer product of gradients (complex-step).\n",
              "\"\"\""
            ],
            "text/html": [
              "<table class=\"simpletable\">\n",
              "<caption>SARIMAX Results</caption>\n",
              "<tr>\n",
              "  <th>Dep. Variable:</th>               <td>7176023</td>            <th>  No. Observations:  </th>   <td>59</td>   \n",
              "</tr>\n",
              "<tr>\n",
              "  <th>Model:</th>           <td>SARIMAX(2, 0, 0)x(1, 1, 0, 12)</td> <th>  Log Likelihood     </th> <td>-84.117</td>\n",
              "</tr>\n",
              "<tr>\n",
              "  <th>Date:</th>                   <td>Thu, 30 Nov 2023</td>        <th>  AIC                </th> <td>176.234</td>\n",
              "</tr>\n",
              "<tr>\n",
              "  <th>Time:</th>                       <td>06:38:13</td>            <th>  BIC                </th> <td>182.220</td>\n",
              "</tr>\n",
              "<tr>\n",
              "  <th>Sample:</th>                    <td>01-31-2018</td>           <th>  HQIC               </th> <td>178.248</td>\n",
              "</tr>\n",
              "<tr>\n",
              "  <th></th>                          <td>- 11-30-2022</td>          <th>                     </th>    <td> </td>   \n",
              "</tr>\n",
              "<tr>\n",
              "  <th>Covariance Type:</th>               <td>opg</td>              <th>                     </th>    <td> </td>   \n",
              "</tr>\n",
              "</table>\n",
              "<table class=\"simpletable\">\n",
              "<tr>\n",
              "      <td></td>        <th>coef</th>     <th>std err</th>      <th>z</th>      <th>P>|z|</th>  <th>[0.025</th>    <th>0.975]</th>  \n",
              "</tr>\n",
              "<tr>\n",
              "  <th>ar.L1</th>    <td>    0.3203</td> <td>    0.221</td> <td>    1.447</td> <td> 0.148</td> <td>   -0.113</td> <td>    0.754</td>\n",
              "</tr>\n",
              "<tr>\n",
              "  <th>ar.L2</th>    <td>    0.3364</td> <td>    0.222</td> <td>    1.515</td> <td> 0.130</td> <td>   -0.099</td> <td>    0.771</td>\n",
              "</tr>\n",
              "<tr>\n",
              "  <th>ar.S.L12</th> <td>   -0.9004</td> <td>    0.215</td> <td>   -4.191</td> <td> 0.000</td> <td>   -1.321</td> <td>   -0.479</td>\n",
              "</tr>\n",
              "<tr>\n",
              "  <th>sigma2</th>   <td>    9.5843</td> <td>    2.162</td> <td>    4.433</td> <td> 0.000</td> <td>    5.347</td> <td>   13.821</td>\n",
              "</tr>\n",
              "</table>\n",
              "<table class=\"simpletable\">\n",
              "<tr>\n",
              "  <th>Ljung-Box (L1) (Q):</th>     <td>0.01</td> <th>  Jarque-Bera (JB):  </th> <td>3.37</td>\n",
              "</tr>\n",
              "<tr>\n",
              "  <th>Prob(Q):</th>                <td>0.91</td> <th>  Prob(JB):          </th> <td>0.19</td>\n",
              "</tr>\n",
              "<tr>\n",
              "  <th>Heteroskedasticity (H):</th> <td>5.59</td> <th>  Skew:              </th> <td>0.71</td>\n",
              "</tr>\n",
              "<tr>\n",
              "  <th>Prob(H) (two-sided):</th>    <td>0.01</td> <th>  Kurtosis:          </th> <td>3.65</td>\n",
              "</tr>\n",
              "</table><br/><br/>Warnings:<br/>[1] Covariance matrix calculated using the outer product of gradients (complex-step)."
            ],
            "text/latex": "\\begin{center}\n\\begin{tabular}{lclc}\n\\toprule\n\\textbf{Dep. Variable:}          &            7176023             & \\textbf{  No. Observations:  } &     59      \\\\\n\\textbf{Model:}                  & SARIMAX(2, 0, 0)x(1, 1, 0, 12) & \\textbf{  Log Likelihood     } &  -84.117    \\\\\n\\textbf{Date:}                   &        Thu, 30 Nov 2023        & \\textbf{  AIC                } &  176.234    \\\\\n\\textbf{Time:}                   &            06:38:13            & \\textbf{  BIC                } &  182.220    \\\\\n\\textbf{Sample:}                 &           01-31-2018           & \\textbf{  HQIC               } &  178.248    \\\\\n\\textbf{}                        &          - 11-30-2022          & \\textbf{                     } &             \\\\\n\\textbf{Covariance Type:}        &              opg               & \\textbf{                     } &             \\\\\n\\bottomrule\n\\end{tabular}\n\\begin{tabular}{lcccccc}\n                  & \\textbf{coef} & \\textbf{std err} & \\textbf{z} & \\textbf{P$> |$z$|$} & \\textbf{[0.025} & \\textbf{0.975]}  \\\\\n\\midrule\n\\textbf{ar.L1}    &       0.3203  &        0.221     &     1.447  &         0.148        &       -0.113    &        0.754     \\\\\n\\textbf{ar.L2}    &       0.3364  &        0.222     &     1.515  &         0.130        &       -0.099    &        0.771     \\\\\n\\textbf{ar.S.L12} &      -0.9004  &        0.215     &    -4.191  &         0.000        &       -1.321    &       -0.479     \\\\\n\\textbf{sigma2}   &       9.5843  &        2.162     &     4.433  &         0.000        &        5.347    &       13.821     \\\\\n\\bottomrule\n\\end{tabular}\n\\begin{tabular}{lclc}\n\\textbf{Ljung-Box (L1) (Q):}     & 0.01 & \\textbf{  Jarque-Bera (JB):  } & 3.37  \\\\\n\\textbf{Prob(Q):}                & 0.91 & \\textbf{  Prob(JB):          } & 0.19  \\\\\n\\textbf{Heteroskedasticity (H):} & 5.59 & \\textbf{  Skew:              } & 0.71  \\\\\n\\textbf{Prob(H) (two-sided):}    & 0.01 & \\textbf{  Kurtosis:          } & 3.65  \\\\\n\\bottomrule\n\\end{tabular}\n%\\caption{SARIMAX Results}\n\\end{center}\n\nWarnings: \\newline\n [1] Covariance matrix calculated using the outer product of gradients (complex-step)."
          },
          "metadata": {},
          "execution_count": 9
        }
      ]
    },
    {
      "cell_type": "code",
      "source": [
        "single_book_sales_test = test_data[isbn_to_forecast]\n",
        "single_book_sales_test"
      ],
      "metadata": {
        "colab": {
          "base_uri": "https://localhost:8080/"
        },
        "id": "C2CT00a4ThHB",
        "outputId": "dfe6fe2a-3649-40fd-da77-f3d9f520f68e"
      },
      "execution_count": null,
      "outputs": [
        {
          "output_type": "execute_result",
          "data": {
            "text/plain": [
              "Sale Date\n",
              "2022-12     5\n",
              "2023-01     5\n",
              "2023-02     3\n",
              "2023-03     7\n",
              "2023-04     5\n",
              "2023-05     7\n",
              "2023-06     7\n",
              "2023-07    15\n",
              "2023-08    17\n",
              "2023-09     9\n",
              "2023-10     7\n",
              "2023-11     7\n",
              "2023-12     5\n",
              "Freq: M, Name: 7176023, dtype: int64"
            ]
          },
          "metadata": {},
          "execution_count": 10
        }
      ]
    },
    {
      "cell_type": "code",
      "source": [
        "# Predictions for 2194\n",
        "from sklearn.metrics import mean_squared_error\n",
        "sarima_predictions = best_sarima_model_fit.forecast(len(single_book_sales_test))\n",
        "sarima_mse = mean_squared_error(single_book_sales_test, sarima_predictions)\n",
        "\n",
        "new_sarima_residuals = single_book_sales_test - sarima_predictions\n",
        "new_sarima_residuals, sarima_predictions, sarima_mse\n"
      ],
      "metadata": {
        "colab": {
          "base_uri": "https://localhost:8080/"
        },
        "id": "Hb0GvQEBR4c4",
        "outputId": "5f758575-58fa-4482-dd42-3ac34650acd6"
      },
      "execution_count": null,
      "outputs": [
        {
          "output_type": "execute_result",
          "data": {
            "text/plain": [
              "(Sale Date\n",
              " 2022-12    -1.610487\n",
              " 2023-01     0.280390\n",
              " 2023-02    -3.486947\n",
              " 2023-03     3.079882\n",
              " 2023-04     1.943084\n",
              " 2023-05     3.049278\n",
              " 2023-06    -1.263958\n",
              " 2023-07     3.471355\n",
              " 2023-08    10.476800\n",
              " 2023-09     2.350860\n",
              " 2023-10     0.008538\n",
              " 2023-11     1.456188\n",
              " 2023-12    -1.171519\n",
              " Freq: M, dtype: float64,\n",
              " 2022-12     6.610487\n",
              " 2023-01     4.719610\n",
              " 2023-02     6.486947\n",
              " 2023-03     3.920118\n",
              " 2023-04     3.056916\n",
              " 2023-05     3.950722\n",
              " 2023-06     8.263958\n",
              " 2023-07    11.528645\n",
              " 2023-08     6.523200\n",
              " 2023-09     6.649140\n",
              " 2023-10     6.991462\n",
              " 2023-11     5.543812\n",
              " 2023-12     6.171519\n",
              " Freq: M, Name: predicted_mean, dtype: float64,\n",
              " 13.063170622448597)"
            ]
          },
          "metadata": {},
          "execution_count": 11
        }
      ]
    },
    {
      "cell_type": "code",
      "source": [
        "from sklearn.preprocessing import MinMaxScaler\n",
        "from keras.models import Sequential\n",
        "from keras.layers import Dense, LSTM, Dropout\n",
        "from keras.preprocessing.sequence import TimeseriesGenerator\n",
        "import numpy as np\n",
        "\n",
        "residuals_data = new_sarima_residuals.values.reshape(-1, 1)\n",
        "\n",
        "# Normalize the residuals data\n",
        "scaler = MinMaxScaler(feature_range=(0, 1))\n",
        "scaled_residuals = scaler.fit_transform(residuals_data)\n",
        "\n",
        "n_input = 1\n",
        "n_features = 1\n",
        "batch_size = 1\n",
        "epochs = 200\n",
        "\n",
        "generator = TimeseriesGenerator(scaled_residuals, scaled_residuals, length=n_input, batch_size=batch_size)"
      ],
      "metadata": {
        "id": "5gE2UXU6fKFH"
      },
      "execution_count": null,
      "outputs": []
    },
    {
      "cell_type": "code",
      "source": [
        "# Define LSTM model\n",
        "lstm_model = Sequential()\n",
        "lstm_model.add(LSTM(50, activation='relu', input_shape=(n_input, n_features), return_sequences=True))\n",
        "lstm_model.add(Dropout(0.2))\n",
        "lstm_model.add(LSTM(50, activation='relu', return_sequences=False))\n",
        "lstm_model.add(Dropout(0.2))\n",
        "lstm_model.add(Dense(25, activation='relu'))\n",
        "lstm_model.add(Dropout(0.2))\n",
        "lstm_model.add(Dense(1))\n",
        "lstm_model.compile(optimizer='adam', loss='mse')\n",
        "lstm_model.summary()"
      ],
      "metadata": {
        "colab": {
          "base_uri": "https://localhost:8080/"
        },
        "id": "7WIz-lyKR8H3",
        "outputId": "31d3a2ec-0ebd-4ffd-a75c-03e207600840"
      },
      "execution_count": null,
      "outputs": [
        {
          "output_type": "stream",
          "name": "stdout",
          "text": [
            "Model: \"sequential\"\n",
            "_________________________________________________________________\n",
            " Layer (type)                Output Shape              Param #   \n",
            "=================================================================\n",
            " lstm (LSTM)                 (None, 1, 50)             10400     \n",
            "                                                                 \n",
            " dropout (Dropout)           (None, 1, 50)             0         \n",
            "                                                                 \n",
            " lstm_1 (LSTM)               (None, 50)                20200     \n",
            "                                                                 \n",
            " dropout_1 (Dropout)         (None, 50)                0         \n",
            "                                                                 \n",
            " dense (Dense)               (None, 25)                1275      \n",
            "                                                                 \n",
            " dropout_2 (Dropout)         (None, 25)                0         \n",
            "                                                                 \n",
            " dense_1 (Dense)             (None, 1)                 26        \n",
            "                                                                 \n",
            "=================================================================\n",
            "Total params: 31901 (124.61 KB)\n",
            "Trainable params: 31901 (124.61 KB)\n",
            "Non-trainable params: 0 (0.00 Byte)\n",
            "_________________________________________________________________\n"
          ]
        }
      ]
    },
    {
      "cell_type": "code",
      "source": [
        "\n",
        "lstm_model.fit(generator, epochs=epochs, verbose=0)\n",
        "\n",
        "lstm_predictions_scaled = lstm_model.predict(generator)\n",
        "\n",
        "lstm_predictions = scaler.inverse_transform(lstm_predictions_scaled)"
      ],
      "metadata": {
        "colab": {
          "base_uri": "https://localhost:8080/"
        },
        "id": "2ooOFKmZruWD",
        "outputId": "d25c1aa1-d2ca-4baf-f4ac-d83e0125e3b8"
      },
      "execution_count": null,
      "outputs": [
        {
          "output_type": "stream",
          "name": "stdout",
          "text": [
            "12/12 [==============================] - 1s 5ms/step\n"
          ]
        }
      ]
    },
    {
      "cell_type": "code",
      "source": [
        "mean_squared_error(single_book_sales_test.to_numpy()[1:], sarima_predictions.to_numpy()[1:] + lstm_predictions.ravel())"
      ],
      "metadata": {
        "colab": {
          "base_uri": "https://localhost:8080/"
        },
        "id": "OZ2zqbyGfmzu",
        "outputId": "4e3ab06a-cd49-4918-a276-fe1416c6b6be"
      },
      "execution_count": null,
      "outputs": [
        {
          "output_type": "execute_result",
          "data": {
            "text/plain": [
              "10.906826981664283"
            ]
          },
          "metadata": {},
          "execution_count": 15
        }
      ]
    },
    {
      "cell_type": "code",
      "source": [
        "lstm_predictions"
      ],
      "metadata": {
        "colab": {
          "base_uri": "https://localhost:8080/"
        },
        "id": "8r1W4vS6DszB",
        "outputId": "82653f7e-9985-41ca-918b-1ee71581a5f3"
      },
      "execution_count": null,
      "outputs": [
        {
          "output_type": "execute_result",
          "data": {
            "text/plain": [
              "array([[1.3615942],\n",
              "       [1.4907986],\n",
              "       [1.2453622],\n",
              "       [1.7354045],\n",
              "       [1.6332126],\n",
              "       [1.7326063],\n",
              "       [1.3842171],\n",
              "       [1.7713617],\n",
              "       [2.4689748],\n",
              "       [1.6693887],\n",
              "       [1.4713789],\n",
              "       [1.5904247]], dtype=float32)"
            ]
          },
          "metadata": {},
          "execution_count": 16
        }
      ]
    },
    {
      "cell_type": "code",
      "source": [
        "import math\n",
        "\n",
        "final_predictions = np.array([math.floor(x) for x in sarima_predictions.to_numpy()[1:] + lstm_predictions.ravel()])\n",
        "final_predictions"
      ],
      "metadata": {
        "colab": {
          "base_uri": "https://localhost:8080/"
        },
        "id": "00tAHHtRssQ3",
        "outputId": "9cb72069-d8f8-47f7-c126-b3b2f4d54a3d"
      },
      "execution_count": null,
      "outputs": [
        {
          "output_type": "execute_result",
          "data": {
            "text/plain": [
              "array([ 6,  7,  5,  4,  5,  9, 12,  8,  9,  8,  7,  7])"
            ]
          },
          "metadata": {},
          "execution_count": 17
        }
      ]
    },
    {
      "cell_type": "code",
      "source": [
        "dates = pd.date_range(start='2024-01-01', end='2024-12-01', freq='MS')\n",
        "time_series_df = pd.DataFrame(final_predictions, index=dates, columns=['Value'])\n",
        "\n",
        "print(f\"ISBN: {isbn_to_forecast}\\n\")\n",
        "print(f\"Forecast: \\n{time_series_df}\")"
      ],
      "metadata": {
        "colab": {
          "base_uri": "https://localhost:8080/"
        },
        "id": "yMoMbJAe-wur",
        "outputId": "42f3a4f0-71ce-4d8d-c820-87c6c461cd79"
      },
      "execution_count": null,
      "outputs": [
        {
          "output_type": "stream",
          "name": "stdout",
          "text": [
            "ISBN: 7176023\n",
            "\n",
            "Forecast: \n",
            "            Value\n",
            "2024-01-01      6\n",
            "2024-02-01      7\n",
            "2024-03-01      5\n",
            "2024-04-01      4\n",
            "2024-05-01      5\n",
            "2024-06-01      9\n",
            "2024-07-01     12\n",
            "2024-08-01      8\n",
            "2024-09-01      9\n",
            "2024-10-01      8\n",
            "2024-11-01      7\n",
            "2024-12-01      7\n"
          ]
        }
      ]
    },
    {
      "cell_type": "code",
      "source": [
        "collection = db['SalesForecast']\n",
        "\n",
        "#delete existing forecasts for the isbn\n",
        "#to further update to only delete affected isbn and period combi\n",
        "query = {\"ISBN\": isbn_to_forecast}\n",
        "collection.delete_many(query)\n",
        "\n",
        "\n",
        "forecast_df = pd.DataFrame(dates, columns=['Period'])\n",
        "forecast_df['ISBN'] = isbn_to_forecast\n",
        "forecast_df['Value'] = final_predictions\n",
        "recordsSalesForecast = forecast_df.to_dict('records')\n",
        "collection.insert_many(recordsSalesForecast)"
      ],
      "metadata": {
        "colab": {
          "base_uri": "https://localhost:8080/"
        },
        "id": "H8tLjXw6_Xcx",
        "outputId": "2208675c-9133-44e9-c653-fcf5e211bbc2"
      },
      "execution_count": null,
      "outputs": [
        {
          "output_type": "execute_result",
          "data": {
            "text/plain": [
              "InsertManyResult([ObjectId('656831c6273f3a5799f7a6fb'), ObjectId('656831c6273f3a5799f7a6fc'), ObjectId('656831c6273f3a5799f7a6fd'), ObjectId('656831c6273f3a5799f7a6fe'), ObjectId('656831c6273f3a5799f7a6ff'), ObjectId('656831c6273f3a5799f7a700'), ObjectId('656831c6273f3a5799f7a701'), ObjectId('656831c6273f3a5799f7a702'), ObjectId('656831c6273f3a5799f7a703'), ObjectId('656831c6273f3a5799f7a704'), ObjectId('656831c6273f3a5799f7a705'), ObjectId('656831c6273f3a5799f7a706')], acknowledged=True)"
            ]
          },
          "metadata": {},
          "execution_count": 32
        }
      ]
    },
    {
      "cell_type": "code",
      "source": [
        "doc_count = collection.count_documents({})\n",
        "doc_count"
      ],
      "metadata": {
        "colab": {
          "base_uri": "https://localhost:8080/"
        },
        "id": "AQfcth6i_xpq",
        "outputId": "6fdd6d25-748d-4a46-c766-277b01937f1c"
      },
      "execution_count": null,
      "outputs": [
        {
          "output_type": "execute_result",
          "data": {
            "text/plain": [
              "12"
            ]
          },
          "metadata": {},
          "execution_count": 33
        }
      ]
    }
  ]
}